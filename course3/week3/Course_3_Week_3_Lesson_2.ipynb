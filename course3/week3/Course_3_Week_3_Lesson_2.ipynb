{
  "nbformat": 4,
  "nbformat_minor": 0,
  "metadata": {
    "accelerator": "GPU",
    "colab": {
      "name": "Course 3 - Week 3 - Lesson 2.ipynb",
      "provenance": [],
      "collapsed_sections": [],
      "toc_visible": true
    },
    "kernelspec": {
      "display_name": "Python 3",
      "language": "python",
      "name": "python3"
    },
    "language_info": {
      "codemirror_mode": {
        "name": "ipython",
        "version": 3
      },
      "file_extension": ".py",
      "mimetype": "text/x-python",
      "name": "python",
      "nbconvert_exporter": "python",
      "pygments_lexer": "ipython3",
      "version": "3.7.6"
    }
  },
  "cells": [
    {
      "cell_type": "code",
      "metadata": {
        "colab_type": "code",
        "id": "zX4Kg8DUTKWO",
        "colab": {}
      },
      "source": [
        "#@title Licensed under the Apache License, Version 2.0 (the \"License\");\n",
        "# you may not use this file except in compliance with the License.\n",
        "# You may obtain a copy of the License at\n",
        "#\n",
        "# https://www.apache.org/licenses/LICENSE-2.0\n",
        "#\n",
        "# Unless required by applicable law or agreed to in writing, software\n",
        "# distributed under the License is distributed on an \"AS IS\" BASIS,\n",
        "# WITHOUT WARRANTIES OR CONDITIONS OF ANY KIND, either express or implied.\n",
        "# See the License for the specific language governing permissions and\n",
        "# limitations under the License."
      ],
      "execution_count": null,
      "outputs": []
    },
    {
      "cell_type": "markdown",
      "metadata": {
        "id": "Sfegq4NLFmzb",
        "colab_type": "text"
      },
      "source": [
        "<a href=\"https://colab.research.google.com/github/lmoroney/dlaicourse/blob/master/TensorFlow%20In%20Practice/Course%203%20-%20NLP/Course%203%20-%20Week%203%20-%20Lesson%202.ipynb\" target=\"_parent\"><img src=\"https://colab.research.google.com/assets/colab-badge.svg\" alt=\"Open In Colab\"/></a>"
      ]
    },
    {
      "cell_type": "code",
      "metadata": {
        "colab_type": "code",
        "id": "jGwXGIXvFhXW",
        "colab": {
          "base_uri": "https://localhost:8080/",
          "height": 1000
        },
        "outputId": "7238360b-1952-4330-ae73-64700f4b0917"
      },
      "source": [
        "import numpy as np\n",
        "\n",
        "import json\n",
        "import tensorflow as tf\n",
        "\n",
        "from tensorflow.keras.preprocessing.text import Tokenizer\n",
        "from tensorflow.keras.preprocessing.sequence import pad_sequences\n",
        "\n",
        "!wget --no-check-certificate \\\n",
        "    https://storage.googleapis.com/laurencemoroney-blog.appspot.com/sarcasm.json \\\n",
        "    -O /tmp/sarcasm.json\n",
        "\n",
        "vocab_size = 1000\n",
        "embedding_dim = 16\n",
        "max_length = 120\n",
        "trunc_type='post'\n",
        "padding_type='post'\n",
        "oov_tok = \"<OOV>\"\n",
        "training_size = 20000\n",
        "\n",
        "\n",
        "with open(\"/tmp/sarcasm.json\", 'r') as f:\n",
        "    datastore = json.load(f)\n",
        "\n",
        "\n",
        "sentences = []\n",
        "labels = []\n",
        "urls = []\n",
        "for item in datastore:\n",
        "    sentences.append(item['headline'])\n",
        "    labels.append(item['is_sarcastic'])\n",
        "\n",
        "training_sentences = sentences[0:training_size]\n",
        "testing_sentences = sentences[training_size:]\n",
        "training_labels = labels[0:training_size]\n",
        "testing_labels = labels[training_size:]\n",
        "\n",
        "tokenizer = Tokenizer(num_words=vocab_size, oov_token=oov_tok)\n",
        "tokenizer.fit_on_texts(training_sentences)\n",
        "\n",
        "word_index = tokenizer.word_index\n",
        "\n",
        "training_sequences = tokenizer.texts_to_sequences(training_sentences)\n",
        "training_padded = pad_sequences(training_sequences, maxlen=max_length, padding=padding_type, truncating=trunc_type)\n",
        "\n",
        "testing_sequences = tokenizer.texts_to_sequences(testing_sentences)\n",
        "testing_padded = pad_sequences(testing_sequences, maxlen=max_length, padding=padding_type, truncating=trunc_type)\n",
        "\n",
        "model = tf.keras.Sequential([\n",
        "    tf.keras.layers.Embedding(vocab_size, embedding_dim, input_length=max_length),\n",
        "    tf.keras.layers.Bidirectional(tf.keras.layers.LSTM(32)),\n",
        "    tf.keras.layers.Dense(24, activation='relu'),\n",
        "    tf.keras.layers.Dense(1, activation='sigmoid')\n",
        "])\n",
        "model.compile(loss='binary_crossentropy',optimizer='adam',metrics=['accuracy'])\n",
        "model.summary()\n",
        "\n",
        "num_epochs = 50\n",
        "training_padded = np.array(training_padded)\n",
        "training_labels = np.array(training_labels)\n",
        "testing_padded = np.array(testing_padded)\n",
        "testing_labels = np.array(testing_labels)\n",
        "history = model.fit(training_padded, training_labels, epochs=num_epochs, validation_data=(testing_padded, testing_labels), verbose=1)\n"
      ],
      "execution_count": 1,
      "outputs": [
        {
          "output_type": "stream",
          "text": [
            "--2020-06-26 05:25:46--  https://storage.googleapis.com/laurencemoroney-blog.appspot.com/sarcasm.json\n",
            "Resolving storage.googleapis.com (storage.googleapis.com)... 74.125.195.128, 74.125.20.128, 108.177.98.128, ...\n",
            "Connecting to storage.googleapis.com (storage.googleapis.com)|74.125.195.128|:443... connected.\n",
            "HTTP request sent, awaiting response... 200 OK\n",
            "Length: 5643545 (5.4M) [application/json]\n",
            "Saving to: ‘/tmp/sarcasm.json’\n",
            "\n",
            "\r/tmp/sarcasm.json     0%[                    ]       0  --.-KB/s               \r/tmp/sarcasm.json   100%[===================>]   5.38M  --.-KB/s    in 0.06s   \n",
            "\n",
            "2020-06-26 05:25:46 (87.8 MB/s) - ‘/tmp/sarcasm.json’ saved [5643545/5643545]\n",
            "\n",
            "Model: \"sequential\"\n",
            "_________________________________________________________________\n",
            "Layer (type)                 Output Shape              Param #   \n",
            "=================================================================\n",
            "embedding (Embedding)        (None, 120, 16)           16000     \n",
            "_________________________________________________________________\n",
            "bidirectional (Bidirectional (None, 64)                12544     \n",
            "_________________________________________________________________\n",
            "dense (Dense)                (None, 24)                1560      \n",
            "_________________________________________________________________\n",
            "dense_1 (Dense)              (None, 1)                 25        \n",
            "=================================================================\n",
            "Total params: 30,129\n",
            "Trainable params: 30,129\n",
            "Non-trainable params: 0\n",
            "_________________________________________________________________\n",
            "Epoch 1/50\n",
            "625/625 [==============================] - 9s 14ms/step - loss: 0.4642 - accuracy: 0.7679 - val_loss: 0.3895 - val_accuracy: 0.8204\n",
            "Epoch 2/50\n",
            "625/625 [==============================] - 8s 13ms/step - loss: 0.3584 - accuracy: 0.8346 - val_loss: 0.3805 - val_accuracy: 0.8238\n",
            "Epoch 3/50\n",
            "625/625 [==============================] - 8s 13ms/step - loss: 0.3358 - accuracy: 0.8474 - val_loss: 0.3790 - val_accuracy: 0.8280\n",
            "Epoch 4/50\n",
            "625/625 [==============================] - 8s 13ms/step - loss: 0.3171 - accuracy: 0.8583 - val_loss: 0.3705 - val_accuracy: 0.8344\n",
            "Epoch 5/50\n",
            "625/625 [==============================] - 8s 13ms/step - loss: 0.3043 - accuracy: 0.8657 - val_loss: 0.3756 - val_accuracy: 0.8301\n",
            "Epoch 6/50\n",
            "625/625 [==============================] - 8s 13ms/step - loss: 0.2951 - accuracy: 0.8684 - val_loss: 0.3745 - val_accuracy: 0.8337\n",
            "Epoch 7/50\n",
            "625/625 [==============================] - 8s 13ms/step - loss: 0.2861 - accuracy: 0.8745 - val_loss: 0.3762 - val_accuracy: 0.8334\n",
            "Epoch 8/50\n",
            "625/625 [==============================] - 8s 13ms/step - loss: 0.2779 - accuracy: 0.8778 - val_loss: 0.3904 - val_accuracy: 0.8259\n",
            "Epoch 9/50\n",
            "625/625 [==============================] - 8s 13ms/step - loss: 0.2709 - accuracy: 0.8826 - val_loss: 0.3899 - val_accuracy: 0.8267\n",
            "Epoch 10/50\n",
            "625/625 [==============================] - 8s 13ms/step - loss: 0.2632 - accuracy: 0.8862 - val_loss: 0.3898 - val_accuracy: 0.8264\n",
            "Epoch 11/50\n",
            "625/625 [==============================] - 8s 13ms/step - loss: 0.2562 - accuracy: 0.8913 - val_loss: 0.3981 - val_accuracy: 0.8252\n",
            "Epoch 12/50\n",
            "625/625 [==============================] - 8s 13ms/step - loss: 0.2489 - accuracy: 0.8939 - val_loss: 0.4021 - val_accuracy: 0.8259\n",
            "Epoch 13/50\n",
            "625/625 [==============================] - 8s 13ms/step - loss: 0.2415 - accuracy: 0.8975 - val_loss: 0.4207 - val_accuracy: 0.8264\n",
            "Epoch 14/50\n",
            "625/625 [==============================] - 8s 13ms/step - loss: 0.2327 - accuracy: 0.9003 - val_loss: 0.4326 - val_accuracy: 0.8186\n",
            "Epoch 15/50\n",
            "625/625 [==============================] - 8s 13ms/step - loss: 0.2262 - accuracy: 0.9040 - val_loss: 0.4576 - val_accuracy: 0.8182\n",
            "Epoch 16/50\n",
            "625/625 [==============================] - 8s 13ms/step - loss: 0.2180 - accuracy: 0.9087 - val_loss: 0.4676 - val_accuracy: 0.8195\n",
            "Epoch 17/50\n",
            "625/625 [==============================] - 8s 13ms/step - loss: 0.2084 - accuracy: 0.9115 - val_loss: 0.4676 - val_accuracy: 0.8226\n",
            "Epoch 18/50\n",
            "625/625 [==============================] - 8s 13ms/step - loss: 0.2031 - accuracy: 0.9166 - val_loss: 0.4917 - val_accuracy: 0.8177\n",
            "Epoch 19/50\n",
            "625/625 [==============================] - 8s 13ms/step - loss: 0.1960 - accuracy: 0.9196 - val_loss: 0.4953 - val_accuracy: 0.8204\n",
            "Epoch 20/50\n",
            "625/625 [==============================] - 8s 13ms/step - loss: 0.1877 - accuracy: 0.9226 - val_loss: 0.5283 - val_accuracy: 0.8150\n",
            "Epoch 21/50\n",
            "625/625 [==============================] - 8s 13ms/step - loss: 0.1790 - accuracy: 0.9270 - val_loss: 0.5779 - val_accuracy: 0.8180\n",
            "Epoch 22/50\n",
            "625/625 [==============================] - 8s 13ms/step - loss: 0.1710 - accuracy: 0.9305 - val_loss: 0.6013 - val_accuracy: 0.8143\n",
            "Epoch 23/50\n",
            "625/625 [==============================] - 8s 13ms/step - loss: 0.1645 - accuracy: 0.9330 - val_loss: 0.5749 - val_accuracy: 0.8129\n",
            "Epoch 24/50\n",
            "625/625 [==============================] - 8s 13ms/step - loss: 0.1617 - accuracy: 0.9338 - val_loss: 0.6118 - val_accuracy: 0.8144\n",
            "Epoch 25/50\n",
            "625/625 [==============================] - 8s 13ms/step - loss: 0.1492 - accuracy: 0.9379 - val_loss: 0.6857 - val_accuracy: 0.8103\n",
            "Epoch 26/50\n",
            "625/625 [==============================] - 8s 13ms/step - loss: 0.1409 - accuracy: 0.9433 - val_loss: 0.7431 - val_accuracy: 0.8089\n",
            "Epoch 27/50\n",
            "625/625 [==============================] - 8s 14ms/step - loss: 0.1392 - accuracy: 0.9427 - val_loss: 0.7180 - val_accuracy: 0.8040\n",
            "Epoch 28/50\n",
            "625/625 [==============================] - 9s 14ms/step - loss: 0.1261 - accuracy: 0.9481 - val_loss: 0.8594 - val_accuracy: 0.8021\n",
            "Epoch 29/50\n",
            "625/625 [==============================] - 8s 13ms/step - loss: 0.1235 - accuracy: 0.9504 - val_loss: 0.8347 - val_accuracy: 0.8019\n",
            "Epoch 30/50\n",
            "625/625 [==============================] - 8s 13ms/step - loss: 0.1156 - accuracy: 0.9531 - val_loss: 0.9220 - val_accuracy: 0.8022\n",
            "Epoch 31/50\n",
            "625/625 [==============================] - 8s 13ms/step - loss: 0.1095 - accuracy: 0.9557 - val_loss: 0.9463 - val_accuracy: 0.8056\n",
            "Epoch 32/50\n",
            "625/625 [==============================] - 8s 14ms/step - loss: 0.1061 - accuracy: 0.9561 - val_loss: 1.0127 - val_accuracy: 0.8016\n",
            "Epoch 33/50\n",
            "625/625 [==============================] - 8s 13ms/step - loss: 0.1054 - accuracy: 0.9577 - val_loss: 0.9887 - val_accuracy: 0.8034\n",
            "Epoch 34/50\n",
            "625/625 [==============================] - 8s 13ms/step - loss: 0.0919 - accuracy: 0.9622 - val_loss: 1.0787 - val_accuracy: 0.8061\n",
            "Epoch 35/50\n",
            "625/625 [==============================] - 8s 13ms/step - loss: 0.0959 - accuracy: 0.9606 - val_loss: 1.1345 - val_accuracy: 0.8019\n",
            "Epoch 36/50\n",
            "625/625 [==============================] - 8s 13ms/step - loss: 0.0863 - accuracy: 0.9643 - val_loss: 1.2746 - val_accuracy: 0.7962\n",
            "Epoch 37/50\n",
            "625/625 [==============================] - 8s 13ms/step - loss: 0.0793 - accuracy: 0.9674 - val_loss: 1.3302 - val_accuracy: 0.8025\n",
            "Epoch 38/50\n",
            "625/625 [==============================] - 8s 13ms/step - loss: 0.0777 - accuracy: 0.9670 - val_loss: 1.2815 - val_accuracy: 0.7983\n",
            "Epoch 39/50\n",
            "625/625 [==============================] - 8s 13ms/step - loss: 0.0815 - accuracy: 0.9674 - val_loss: 1.2448 - val_accuracy: 0.7988\n",
            "Epoch 40/50\n",
            "625/625 [==============================] - 8s 13ms/step - loss: 0.0718 - accuracy: 0.9697 - val_loss: 1.3714 - val_accuracy: 0.7970\n",
            "Epoch 41/50\n",
            "625/625 [==============================] - 8s 13ms/step - loss: 0.0707 - accuracy: 0.9707 - val_loss: 1.4209 - val_accuracy: 0.7997\n",
            "Epoch 42/50\n",
            "625/625 [==============================] - 8s 13ms/step - loss: 0.0643 - accuracy: 0.9724 - val_loss: 1.5744 - val_accuracy: 0.8007\n",
            "Epoch 43/50\n",
            "625/625 [==============================] - 8s 13ms/step - loss: 0.0661 - accuracy: 0.9725 - val_loss: 1.5409 - val_accuracy: 0.7952\n",
            "Epoch 44/50\n",
            "625/625 [==============================] - 8s 13ms/step - loss: 0.0646 - accuracy: 0.9732 - val_loss: 1.6292 - val_accuracy: 0.8041\n",
            "Epoch 45/50\n",
            "625/625 [==============================] - 8s 13ms/step - loss: 0.0641 - accuracy: 0.9739 - val_loss: 1.5882 - val_accuracy: 0.8035\n",
            "Epoch 46/50\n",
            "625/625 [==============================] - 8s 13ms/step - loss: 0.0514 - accuracy: 0.9777 - val_loss: 1.7090 - val_accuracy: 0.7992\n",
            "Epoch 47/50\n",
            "625/625 [==============================] - 8s 13ms/step - loss: 0.0595 - accuracy: 0.9746 - val_loss: 1.6201 - val_accuracy: 0.7974\n",
            "Epoch 48/50\n",
            "625/625 [==============================] - 8s 13ms/step - loss: 0.0541 - accuracy: 0.9772 - val_loss: 1.7583 - val_accuracy: 0.7937\n",
            "Epoch 49/50\n",
            "625/625 [==============================] - 8s 13ms/step - loss: 0.0539 - accuracy: 0.9767 - val_loss: 1.8289 - val_accuracy: 0.7970\n",
            "Epoch 50/50\n",
            "625/625 [==============================] - 8s 13ms/step - loss: 0.0488 - accuracy: 0.9783 - val_loss: 1.8970 - val_accuracy: 0.7934\n"
          ],
          "name": "stdout"
        }
      ]
    },
    {
      "cell_type": "code",
      "metadata": {
        "colab_type": "code",
        "id": "g9DC6dmLF8DC",
        "colab": {
          "base_uri": "https://localhost:8080/",
          "height": 541
        },
        "outputId": "c54bfd2c-48d1-4731-8329-1cadce8f930c"
      },
      "source": [
        "import matplotlib.pyplot as plt\n",
        "\n",
        "\n",
        "def plot_graphs(history, string):\n",
        "  plt.plot(history.history[string])\n",
        "  plt.plot(history.history['val_'+string])\n",
        "  plt.xlabel(\"Epochs\")\n",
        "  plt.ylabel(string)\n",
        "  plt.legend([string, 'val_'+string])\n",
        "  plt.show()\n",
        "\n",
        "plot_graphs(history, 'accuracy')\n",
        "plot_graphs(history, 'loss')"
      ],
      "execution_count": 2,
      "outputs": [
        {
          "output_type": "display_data",
          "data": {
            "image/png": "[encoded data removed]",
            "text/plain": [
              "<Figure size 432x288 with 1 Axes>"
            ]
          },
          "metadata": {
            "tags": [],
            "needs_background": "light"
          }
        },
        {
          "output_type": "display_data",
          "data": {
            "image/png": "[encoded data removed]",
            "text/plain": [
              "<Figure size 432x288 with 1 Axes>"
            ]
          },
          "metadata": {
            "tags": [],
            "needs_background": "light"
          }
        }
      ]
    },
    {
      "cell_type": "code",
      "metadata": {
        "colab_type": "code",
        "id": "7ZEZIUppGhdi",
        "colab": {}
      },
      "source": [
        "model.save(\"test.h5\")"
      ],
      "execution_count": 3,
      "outputs": []
    }
  ]
}