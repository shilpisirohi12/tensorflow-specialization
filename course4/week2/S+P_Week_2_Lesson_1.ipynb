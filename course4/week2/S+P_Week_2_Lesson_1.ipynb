{
  "nbformat": 4,
  "nbformat_minor": 0,
  "metadata": {
    "accelerator": "GPU",
    "colab": {
      "name": "S+P Week 2 Lesson 1.ipynb",
      "provenance": [],
      "toc_visible": true
    },
    "kernelspec": {
      "display_name": "Python 3",
      "name": "python3"
    }
  },
  "cells": [
    {
      "cell_type": "code",
      "metadata": {
        "id": "zX4Kg8DUTKWO",
        "colab_type": "code",
        "colab": {}
      },
      "source": [
        "#@title Licensed under the Apache License, Version 2.0 (the \"License\");\n",
        "# you may not use this file except in compliance with the License.\n",
        "# You may obtain a copy of the License at\n",
        "#\n",
        "# https://www.apache.org/licenses/LICENSE-2.0\n",
        "#\n",
        "# Unless required by applicable law or agreed to in writing, software\n",
        "# distributed under the License is distributed on an \"AS IS\" BASIS,\n",
        "# WITHOUT WARRANTIES OR CONDITIONS OF ANY KIND, either express or implied.\n",
        "# See the License for the specific language governing permissions and\n",
        "# limitations under the License."
      ],
      "execution_count": null,
      "outputs": []
    },
    {
      "cell_type": "code",
      "metadata": {
        "colab_type": "code",
        "id": "s6eq-RBcQ_Zr",
        "colab": {}
      },
      "source": [
        "try:\n",
        "  # %tensorflow_version only exists in Colab.\n",
        "  %tensorflow_version 2.x\n",
        "except Exception:\n",
        "  pass"
      ],
      "execution_count": null,
      "outputs": []
    },
    {
      "cell_type": "code",
      "metadata": {
        "colab_type": "code",
        "id": "BOjujz601HcS",
        "colab": {
          "base_uri": "https://localhost:8080/",
          "height": 34
        },
        "outputId": "8e23b51f-2b9f-4d9a-bf4e-bddbde6ef3e5"
      },
      "source": [
        "import tensorflow as tf\n",
        "import numpy as np\n",
        "import matplotlib.pyplot as plt\n",
        "print(tf.__version__)"
      ],
      "execution_count": 1,
      "outputs": [
        {
          "output_type": "stream",
          "text": [
            "2.2.0\n"
          ],
          "name": "stdout"
        }
      ]
    },
    {
      "cell_type": "code",
      "metadata": {
        "colab_type": "code",
        "id": "asEdslR_05O_",
        "colab": {
          "base_uri": "https://localhost:8080/",
          "height": 353
        },
        "outputId": "d9826b05-e840-4354-b31e-2740f91aa25d"
      },
      "source": [
        "dataset = tf.data.Dataset.range(20)\n",
        "for val in dataset:\n",
        "   print(val.numpy())"
      ],
      "execution_count": 4,
      "outputs": [
        {
          "output_type": "stream",
          "text": [
            "0\n",
            "1\n",
            "2\n",
            "3\n",
            "4\n",
            "5\n",
            "6\n",
            "7\n",
            "8\n",
            "9\n",
            "10\n",
            "11\n",
            "12\n",
            "13\n",
            "14\n",
            "15\n",
            "16\n",
            "17\n",
            "18\n",
            "19\n"
          ],
          "name": "stdout"
        }
      ]
    },
    {
      "cell_type": "code",
      "metadata": {
        "colab_type": "code",
        "id": "Lrv_ghSt1lgQ",
        "colab": {
          "base_uri": "https://localhost:8080/",
          "height": 437
        },
        "outputId": "f2a90c61-9f7e-44b7-e7a7-f1210aac971c"
      },
      "source": [
        "dataset = tf.data.Dataset.range(50)\n",
        "dataset = dataset.window(10, shift=2)\n",
        "for window_dataset in dataset:\n",
        "  # print(window_dataset, end=\"**\\n\")\n",
        "  for val in window_dataset:\n",
        "    print(val.numpy(), end=\" \")\n",
        "  print()"
      ],
      "execution_count": 9,
      "outputs": [
        {
          "output_type": "stream",
          "text": [
            "0 1 2 3 4 5 6 7 8 9 \n",
            "2 3 4 5 6 7 8 9 10 11 \n",
            "4 5 6 7 8 9 10 11 12 13 \n",
            "6 7 8 9 10 11 12 13 14 15 \n",
            "8 9 10 11 12 13 14 15 16 17 \n",
            "10 11 12 13 14 15 16 17 18 19 \n",
            "12 13 14 15 16 17 18 19 20 21 \n",
            "14 15 16 17 18 19 20 21 22 23 \n",
            "16 17 18 19 20 21 22 23 24 25 \n",
            "18 19 20 21 22 23 24 25 26 27 \n",
            "20 21 22 23 24 25 26 27 28 29 \n",
            "22 23 24 25 26 27 28 29 30 31 \n",
            "24 25 26 27 28 29 30 31 32 33 \n",
            "26 27 28 29 30 31 32 33 34 35 \n",
            "28 29 30 31 32 33 34 35 36 37 \n",
            "30 31 32 33 34 35 36 37 38 39 \n",
            "32 33 34 35 36 37 38 39 40 41 \n",
            "34 35 36 37 38 39 40 41 42 43 \n",
            "36 37 38 39 40 41 42 43 44 45 \n",
            "38 39 40 41 42 43 44 45 46 47 \n",
            "40 41 42 43 44 45 46 47 48 49 \n",
            "42 43 44 45 46 47 48 49 \n",
            "44 45 46 47 48 49 \n",
            "46 47 48 49 \n",
            "48 49 \n"
          ],
          "name": "stdout"
        }
      ]
    },
    {
      "cell_type": "code",
      "metadata": {
        "colab_type": "code",
        "id": "QLEq6MG-2DN2",
        "colab": {
          "base_uri": "https://localhost:8080/",
          "height": 370
        },
        "outputId": "755cd0ab-e20a-46de-e733-5c66636d0152"
      },
      "source": [
        "dataset = tf.data.Dataset.range(50)\n",
        "dataset = dataset.window(10, shift=2, drop_remainder=True)\n",
        "for window_dataset in dataset:\n",
        "  for val in window_dataset:\n",
        "    print(val.numpy(), end=\" \")\n",
        "  print()"
      ],
      "execution_count": 10,
      "outputs": [
        {
          "output_type": "stream",
          "text": [
            "0 1 2 3 4 5 6 7 8 9 \n",
            "2 3 4 5 6 7 8 9 10 11 \n",
            "4 5 6 7 8 9 10 11 12 13 \n",
            "6 7 8 9 10 11 12 13 14 15 \n",
            "8 9 10 11 12 13 14 15 16 17 \n",
            "10 11 12 13 14 15 16 17 18 19 \n",
            "12 13 14 15 16 17 18 19 20 21 \n",
            "14 15 16 17 18 19 20 21 22 23 \n",
            "16 17 18 19 20 21 22 23 24 25 \n",
            "18 19 20 21 22 23 24 25 26 27 \n",
            "20 21 22 23 24 25 26 27 28 29 \n",
            "22 23 24 25 26 27 28 29 30 31 \n",
            "24 25 26 27 28 29 30 31 32 33 \n",
            "26 27 28 29 30 31 32 33 34 35 \n",
            "28 29 30 31 32 33 34 35 36 37 \n",
            "30 31 32 33 34 35 36 37 38 39 \n",
            "32 33 34 35 36 37 38 39 40 41 \n",
            "34 35 36 37 38 39 40 41 42 43 \n",
            "36 37 38 39 40 41 42 43 44 45 \n",
            "38 39 40 41 42 43 44 45 46 47 \n",
            "40 41 42 43 44 45 46 47 48 49 \n"
          ],
          "name": "stdout"
        }
      ]
    },
    {
      "cell_type": "code",
      "metadata": {
        "colab_type": "code",
        "id": "PJ9CAHlJ2ODe",
        "colab": {
          "base_uri": "https://localhost:8080/",
          "height": 118
        },
        "outputId": "5a681900-98b8-4dd4-f34b-90cab1ab704b"
      },
      "source": [
        "dataset = tf.data.Dataset.range(10)\n",
        "dataset = dataset.window(5, shift=1, drop_remainder=True)\n",
        "dataset = dataset.flat_map(lambda window: window.batch(5))\n",
        "for window in dataset:\n",
        "  print(window.numpy())\n"
      ],
      "execution_count": 12,
      "outputs": [
        {
          "output_type": "stream",
          "text": [
            "[0 1 2 3 4]\n",
            "[1 2 3 4 5]\n",
            "[2 3 4 5 6]\n",
            "[3 4 5 6 7]\n",
            "[4 5 6 7 8]\n",
            "[5 6 7 8 9]\n"
          ],
          "name": "stdout"
        }
      ]
    },
    {
      "cell_type": "code",
      "metadata": {
        "colab_type": "code",
        "id": "DryEZ2Mz2nNV",
        "colab": {
          "base_uri": "https://localhost:8080/",
          "height": 118
        },
        "outputId": "27e4aa90-3b7e-48a9-f4eb-1e5b8c178306"
      },
      "source": [
        "dataset = tf.data.Dataset.range(10)\n",
        "dataset = dataset.window(5, shift=1, drop_remainder=True)\n",
        "dataset = dataset.flat_map(lambda window: window.batch(5))\n",
        "dataset = dataset.map(lambda window: (window[:-1], window[-1:]))\n",
        "for x,y in dataset:\n",
        "  print(x.numpy(), y.numpy())"
      ],
      "execution_count": 13,
      "outputs": [
        {
          "output_type": "stream",
          "text": [
            "[0 1 2 3] [4]\n",
            "[1 2 3 4] [5]\n",
            "[2 3 4 5] [6]\n",
            "[3 4 5 6] [7]\n",
            "[4 5 6 7] [8]\n",
            "[5 6 7 8] [9]\n"
          ],
          "name": "stdout"
        }
      ]
    },
    {
      "cell_type": "code",
      "metadata": {
        "colab_type": "code",
        "id": "1tl-0BOKkEtk",
        "colab": {
          "base_uri": "https://localhost:8080/",
          "height": 118
        },
        "outputId": "10e64008-38ec-4502-920d-91b0556a8278"
      },
      "source": [
        "dataset = tf.data.Dataset.range(10)\n",
        "dataset = dataset.window(5, shift=1, drop_remainder=True)\n",
        "dataset = dataset.flat_map(lambda window: window.batch(5))\n",
        "dataset = dataset.map(lambda window: (window[:-1], window[-1:]))\n",
        "dataset = dataset.shuffle(buffer_size=10)\n",
        "for x,y in dataset:\n",
        "  print(x.numpy(), y.numpy())\n"
      ],
      "execution_count": 14,
      "outputs": [
        {
          "output_type": "stream",
          "text": [
            "[0 1 2 3] [4]\n",
            "[2 3 4 5] [6]\n",
            "[1 2 3 4] [5]\n",
            "[5 6 7 8] [9]\n",
            "[3 4 5 6] [7]\n",
            "[4 5 6 7] [8]\n"
          ],
          "name": "stdout"
        }
      ]
    },
    {
      "cell_type": "code",
      "metadata": {
        "colab_type": "code",
        "id": "Wa0PNwxMGapy",
        "colab": {
          "base_uri": "https://localhost:8080/",
          "height": 218
        },
        "outputId": "53b45ddb-c84f-490a-b4f1-089d8b3148af"
      },
      "source": [
        "dataset = tf.data.Dataset.range(10)\n",
        "dataset = dataset.window(5, shift=1, drop_remainder=True)\n",
        "dataset = dataset.flat_map(lambda window: window.batch(5))\n",
        "dataset = dataset.map(lambda window: (window[:-1], window[-1:]))\n",
        "dataset = dataset.shuffle(buffer_size=10)\n",
        "dataset = dataset.batch(2).prefetch(1)\n",
        "for x,y in dataset:\n",
        "  print(\"x = \", x.numpy())\n",
        "  print(\"y = \", y.numpy())\n"
      ],
      "execution_count": 15,
      "outputs": [
        {
          "output_type": "stream",
          "text": [
            "x =  [[1 2 3 4]\n",
            " [0 1 2 3]]\n",
            "y =  [[5]\n",
            " [4]]\n",
            "x =  [[3 4 5 6]\n",
            " [5 6 7 8]]\n",
            "y =  [[7]\n",
            " [9]]\n",
            "x =  [[4 5 6 7]\n",
            " [2 3 4 5]]\n",
            "y =  [[8]\n",
            " [6]]\n"
          ],
          "name": "stdout"
        }
      ]
    }
  ]
}